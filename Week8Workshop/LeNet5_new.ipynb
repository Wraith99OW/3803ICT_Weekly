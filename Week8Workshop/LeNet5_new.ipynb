{
  "cells": [
    {
      "cell_type": "markdown",
      "metadata": {
        "id": "EDbJWoO1yO8e"
      },
      "source": [
        "# Image Classification with CNN - LeNet5 architecture"
      ]
    },
    {
      "cell_type": "markdown",
      "metadata": {
        "id": "JzQxqD6HyO8i"
      },
      "source": [
        "In this exercise, we will apply the LeNet5 algorithm to the Fashion MNIST dataset and improve your performances."
      ]
    },
    {
      "cell_type": "markdown",
      "metadata": {
        "id": "XFyVotRvyO8j"
      },
      "source": [
        "We will first download the data:"
      ]
    },
    {
      "cell_type": "code",
      "execution_count": 1,
      "metadata": {
        "colab": {
          "base_uri": "https://localhost:8080/"
        },
        "id": "RTHLyL1fyO8j",
        "outputId": "534a6453-7d7e-45d5-9ed7-0ae843d4773b",
        "scrolled": true
      },
      "outputs": [
        {
          "output_type": "stream",
          "name": "stdout",
          "text": [
            "Downloading data from https://storage.googleapis.com/tensorflow/tf-keras-datasets/train-labels-idx1-ubyte.gz\n",
            "29515/29515 [==============================] - 0s 0us/step\n",
            "Downloading data from https://storage.googleapis.com/tensorflow/tf-keras-datasets/train-images-idx3-ubyte.gz\n",
            "26421880/26421880 [==============================] - 0s 0us/step\n",
            "Downloading data from https://storage.googleapis.com/tensorflow/tf-keras-datasets/t10k-labels-idx1-ubyte.gz\n",
            "5148/5148 [==============================] - 0s 0us/step\n",
            "Downloading data from https://storage.googleapis.com/tensorflow/tf-keras-datasets/t10k-images-idx3-ubyte.gz\n",
            "4422102/4422102 [==============================] - 0s 0us/step\n"
          ]
        },
        {
          "output_type": "execute_result",
          "data": {
            "text/plain": [
              "(60000, 28, 28)"
            ]
          },
          "metadata": {},
          "execution_count": 1
        }
      ],
      "source": [
        "# TODO: Load the dataset\n",
        "from tensorflow.keras.datasets import fashion_mnist\n",
        "\n",
        "(X_train, y_train), (X_test, y_test) = fashion_mnist.load_data()\n",
        "\n",
        "# # # If your computer is slow, try to use a subset of data, e.g.\n",
        "# X_train = X_train[:10000]\n",
        "# y_train = y_train[:10000]\n",
        "# X_test = X_test[:2000]\n",
        "# y_test = y_test[:2000]\n",
        "X_train.shape"
      ]
    },
    {
      "cell_type": "markdown",
      "metadata": {
        "id": "c8ShXIANyO8l"
      },
      "source": [
        "As you already know, this dataset contains 10 classes:\n",
        "* 0:\tT-shirt/top\n",
        "* 1:\tTrouser\n",
        "* 2:\tPullover\n",
        "* 3:\tDress\n",
        "* 4:\tCoat\n",
        "* 5:\tSandal\n",
        "* 6:\tShirt\n",
        "* 7:\tSneaker\n",
        "* 8:\tBag\n",
        "* 9:\tAnkle boot"
      ]
    },
    {
      "cell_type": "markdown",
      "metadata": {
        "id": "_BvNG0PbyO8l"
      },
      "source": [
        "You can have a look at some images if needed, even if you already know them."
      ]
    },
    {
      "cell_type": "code",
      "execution_count": 2,
      "metadata": {
        "colab": {
          "base_uri": "https://localhost:8080/",
          "height": 452
        },
        "id": "lnjqgv-GyO8m",
        "outputId": "78e4cf7f-c872-4716-c5c0-c1cec944b24f",
        "scrolled": true
      },
      "outputs": [
        {
          "output_type": "display_data",
          "data": {
            "text/plain": [
              "<Figure size 640x480 with 1 Axes>"
            ],
            "image/png": "[encoded data removed]"
          },
          "metadata": {}
        }
      ],
      "source": [
        "# TODO: Explore the data, display some input images\n",
        "%matplotlib inline\n",
        "import matplotlib.pyplot as plt\n",
        "import numpy as np\n",
        "\n",
        "label_class = ['top', 'trouser', 'pullover', 'dress', 'coat', 'sandal', 'shirt', 'sneaker', 'bag', 'ankle boot']\n",
        "\n",
        "idx = np.random.randint(X_train.shape[0])\n",
        "\n",
        "plt.imshow(X_train[idx], cmap='gray_r')\n",
        "plt.title(label_class[y_train[idx]])\n",
        "plt.show()"
      ]
    },
    {
      "cell_type": "markdown",
      "metadata": {
        "id": "AdYH6XW1yO8n"
      },
      "source": [
        "Make the data preparation and preprocessing: scale and reshape the data, put the labels to the good shape."
      ]
    },
    {
      "cell_type": "code",
      "execution_count": 3,
      "metadata": {
        "id": "fjv8XMPByO8o",
        "colab": {
          "base_uri": "https://localhost:8080/"
        },
        "outputId": "1035ac4d-e1c9-418d-90da-ab00f2cd900f"
      },
      "outputs": [
        {
          "output_type": "execute_result",
          "data": {
            "text/plain": [
              "(60000, 28, 28, 1)"
            ]
          },
          "metadata": {},
          "execution_count": 3
        }
      ],
      "source": [
        "# TODO: Make the data preparation\n",
        "from tensorflow.keras.utils import to_categorical\n",
        "\n",
        "y_train_cat = to_categorical(y_train, num_classes=10)\n",
        "y_test_cat = to_categorical(y_test, num_classes=10)\n",
        "\n",
        "X_train_norm = X_train/255\n",
        "X_test_norm = X_test/255\n",
        "\n",
        "\n",
        "X_train_norm = X_train_norm.reshape(X_train_norm.shape[0], 28, 28, 1)\n",
        "X_test_norm = X_test_norm.reshape(X_test_norm.shape[0], 28, 28, 1)\n",
        "\n",
        "X_train_norm.shape #Should be (60000, 28, 28, 1)"
      ]
    },
    {
      "cell_type": "markdown",
      "metadata": {
        "id": "y9LKzxR9yO8o"
      },
      "source": [
        "Now build the LeNet5 architecture. You can reuse the one of the course, or try to build it by yourself.\n",
        "\n",
        "The architecture is the following:\n",
        "\n",
        "<p align=\"center\">\n",
        "<img src=\"https://drive.google.com/uc?export=view&id=1WteTU2FPIVMkBKmMxGpFm5OjsX-szTbB\">\n",
        "</p>"
      ]
    },
    {
      "cell_type": "code",
      "execution_count": 4,
      "metadata": {
        "id": "GKyMFlL6yO8o",
        "colab": {
          "base_uri": "https://localhost:8080/"
        },
        "outputId": "dda836a6-abdf-4966-df80-90342202219e"
      },
      "outputs": [
        {
          "output_type": "stream",
          "name": "stdout",
          "text": [
            "Model: \"sequential\"\n",
            "_________________________________________________________________\n",
            " Layer (type)                Output Shape              Param #   \n",
            "=================================================================\n",
            " C1 (Conv2D)                 (None, 26, 26, 6)         60        \n",
            "                                                                 \n",
            " S2 (MaxPooling2D)           (None, 13, 13, 6)         0         \n",
            "                                                                 \n",
            " C3 (Conv2D)                 (None, 11, 11, 16)        880       \n",
            "                                                                 \n",
            " S4 (MaxPooling2D)           (None, 5, 5, 16)          0         \n",
            "                                                                 \n",
            " flatten (Flatten)           (None, 400)               0         \n",
            "                                                                 \n",
            " C5 (Dense)                  (None, 120)               48120     \n",
            "                                                                 \n",
            " F6 (Dense)                  (None, 84)                10164     \n",
            "                                                                 \n",
            " dense (Dense)               (None, 10)                850       \n",
            "                                                                 \n",
            "=================================================================\n",
            "Total params: 60,074\n",
            "Trainable params: 60,074\n",
            "Non-trainable params: 0\n",
            "_________________________________________________________________\n"
          ]
        }
      ],
      "source": [
        "# TODO: Build your model\n",
        "from tensorflow.keras.models import Sequential\n",
        "from tensorflow.keras.layers import MaxPooling2D, Conv2D, Flatten, Dense\n",
        "\n",
        "\n",
        "def lenet5():\n",
        "    \n",
        "    model = Sequential()\n",
        "\n",
        "    # Layer C1\n",
        "    model.add(Conv2D(filters=6, name='C1', kernel_size=(3, 3), activation='relu', input_shape=(28,28,1)))\n",
        "    # Layer S2\n",
        "    model.add(MaxPooling2D(pool_size=(2, 2), name='S2'))\n",
        "    # Layer C3\n",
        "    model.add(Conv2D(filters=16, name='C3', kernel_size=(3, 3), activation='relu'))\n",
        "    # Layer S4\n",
        "    model.add(MaxPooling2D(pool_size=(2, 2), name='S4'))\n",
        "    # Before going into layer C5, we flatten our units\n",
        "    model.add(Flatten())\n",
        "    # Layer C5\n",
        "    model.add(Dense(120, activation='relu', name=\"C5\"))\n",
        "    # Layer F6\n",
        "    model.add(Dense(84, activation='relu', name=\"F6\"))\n",
        "    # Output layer\n",
        "    model.add(Dense(units=10, activation = 'softmax'))\n",
        "    \n",
        "    return model\n",
        "\n",
        "lenet5().summary()"
      ]
    },
    {
      "cell_type": "markdown",
      "metadata": {
        "id": "i1qBEauqyO8p"
      },
      "source": [
        "Now compile and fit your model on your training data. Since this is a multiclass classification, the loss is not `binary_crossentropy` anymore, but `categorical_crossentropy`."
      ]
    },
    {
      "cell_type": "code",
      "execution_count": 5,
      "metadata": {
        "colab": {
          "base_uri": "https://localhost:8080/"
        },
        "id": "nPL3aKnyyO8p",
        "outputId": "82c346bc-1366-4078-ac70-0ef796e462e5",
        "scrolled": true
      },
      "outputs": [
        {
          "output_type": "stream",
          "name": "stdout",
          "text": [
            "Epoch 1/100\n",
            "30/30 [==============================] - 14s 32ms/step - loss: 1.5509 - accuracy: 0.5156 - val_loss: 0.8339 - val_accuracy: 0.7209\n",
            "Epoch 2/100\n",
            "30/30 [==============================] - 0s 14ms/step - loss: 0.7011 - accuracy: 0.7429 - val_loss: 0.6458 - val_accuracy: 0.7595\n",
            "Epoch 3/100\n",
            "30/30 [==============================] - 0s 14ms/step - loss: 0.5917 - accuracy: 0.7763 - val_loss: 0.5760 - val_accuracy: 0.7842\n",
            "Epoch 4/100\n",
            "30/30 [==============================] - 0s 14ms/step - loss: 0.5391 - accuracy: 0.7987 - val_loss: 0.5383 - val_accuracy: 0.8010\n",
            "Epoch 5/100\n",
            "30/30 [==============================] - 0s 13ms/step - loss: 0.5059 - accuracy: 0.8129 - val_loss: 0.5227 - val_accuracy: 0.8071\n",
            "Epoch 6/100\n",
            "30/30 [==============================] - 0s 14ms/step - loss: 0.4783 - accuracy: 0.8250 - val_loss: 0.4899 - val_accuracy: 0.8210\n",
            "Epoch 7/100\n",
            "30/30 [==============================] - 0s 14ms/step - loss: 0.4604 - accuracy: 0.8336 - val_loss: 0.4905 - val_accuracy: 0.8202\n",
            "Epoch 8/100\n",
            "30/30 [==============================] - 0s 14ms/step - loss: 0.4443 - accuracy: 0.8404 - val_loss: 0.4612 - val_accuracy: 0.8333\n",
            "Epoch 9/100\n",
            "30/30 [==============================] - 0s 14ms/step - loss: 0.4260 - accuracy: 0.8461 - val_loss: 0.4516 - val_accuracy: 0.8388\n",
            "Epoch 10/100\n",
            "30/30 [==============================] - 0s 15ms/step - loss: 0.4098 - accuracy: 0.8533 - val_loss: 0.4310 - val_accuracy: 0.8452\n",
            "Epoch 11/100\n",
            "30/30 [==============================] - 0s 15ms/step - loss: 0.4000 - accuracy: 0.8565 - val_loss: 0.4302 - val_accuracy: 0.8471\n",
            "Epoch 12/100\n",
            "30/30 [==============================] - 0s 14ms/step - loss: 0.3936 - accuracy: 0.8577 - val_loss: 0.4219 - val_accuracy: 0.8482\n",
            "Epoch 13/100\n",
            "30/30 [==============================] - 0s 13ms/step - loss: 0.3830 - accuracy: 0.8624 - val_loss: 0.4202 - val_accuracy: 0.8475\n",
            "Epoch 14/100\n",
            "30/30 [==============================] - 0s 15ms/step - loss: 0.3762 - accuracy: 0.8647 - val_loss: 0.3988 - val_accuracy: 0.8580\n",
            "Epoch 15/100\n",
            "30/30 [==============================] - 0s 14ms/step - loss: 0.3686 - accuracy: 0.8681 - val_loss: 0.3994 - val_accuracy: 0.8542\n",
            "Epoch 16/100\n",
            "30/30 [==============================] - 0s 15ms/step - loss: 0.3662 - accuracy: 0.8676 - val_loss: 0.4033 - val_accuracy: 0.8505\n",
            "Epoch 17/100\n",
            "30/30 [==============================] - 0s 14ms/step - loss: 0.3596 - accuracy: 0.8704 - val_loss: 0.3887 - val_accuracy: 0.8605\n",
            "Epoch 18/100\n",
            "30/30 [==============================] - 1s 20ms/step - loss: 0.3508 - accuracy: 0.8741 - val_loss: 0.3761 - val_accuracy: 0.8643\n",
            "Epoch 19/100\n",
            "30/30 [==============================] - 1s 22ms/step - loss: 0.3466 - accuracy: 0.8754 - val_loss: 0.3834 - val_accuracy: 0.8628\n",
            "Epoch 20/100\n",
            "30/30 [==============================] - 1s 23ms/step - loss: 0.3433 - accuracy: 0.8767 - val_loss: 0.3810 - val_accuracy: 0.8595\n",
            "Epoch 21/100\n",
            "30/30 [==============================] - 1s 28ms/step - loss: 0.3376 - accuracy: 0.8769 - val_loss: 0.3706 - val_accuracy: 0.8657\n",
            "Epoch 22/100\n",
            "30/30 [==============================] - 1s 34ms/step - loss: 0.3300 - accuracy: 0.8817 - val_loss: 0.3838 - val_accuracy: 0.8623\n",
            "Epoch 23/100\n",
            "30/30 [==============================] - 0s 15ms/step - loss: 0.3262 - accuracy: 0.8824 - val_loss: 0.3732 - val_accuracy: 0.8644\n",
            "Epoch 24/100\n",
            "30/30 [==============================] - 0s 16ms/step - loss: 0.3282 - accuracy: 0.8808 - val_loss: 0.3686 - val_accuracy: 0.8643\n",
            "Epoch 25/100\n",
            "30/30 [==============================] - 1s 19ms/step - loss: 0.3229 - accuracy: 0.8827 - val_loss: 0.3526 - val_accuracy: 0.8703\n",
            "Epoch 26/100\n",
            "30/30 [==============================] - 0s 16ms/step - loss: 0.3140 - accuracy: 0.8863 - val_loss: 0.3557 - val_accuracy: 0.8712\n",
            "Epoch 27/100\n",
            "30/30 [==============================] - 1s 21ms/step - loss: 0.3166 - accuracy: 0.8859 - val_loss: 0.3491 - val_accuracy: 0.8703\n",
            "Epoch 28/100\n",
            "30/30 [==============================] - 1s 20ms/step - loss: 0.3084 - accuracy: 0.8885 - val_loss: 0.3465 - val_accuracy: 0.8730\n",
            "Epoch 29/100\n",
            "30/30 [==============================] - 1s 18ms/step - loss: 0.3061 - accuracy: 0.8891 - val_loss: 0.3686 - val_accuracy: 0.8646\n",
            "Epoch 30/100\n",
            "30/30 [==============================] - 0s 15ms/step - loss: 0.3043 - accuracy: 0.8884 - val_loss: 0.3491 - val_accuracy: 0.8719\n",
            "Epoch 31/100\n",
            "30/30 [==============================] - 1s 17ms/step - loss: 0.3005 - accuracy: 0.8913 - val_loss: 0.3384 - val_accuracy: 0.8767\n",
            "Epoch 32/100\n",
            "30/30 [==============================] - 1s 23ms/step - loss: 0.2976 - accuracy: 0.8922 - val_loss: 0.3443 - val_accuracy: 0.8730\n",
            "Epoch 33/100\n",
            "30/30 [==============================] - 1s 25ms/step - loss: 0.2934 - accuracy: 0.8936 - val_loss: 0.3355 - val_accuracy: 0.8794\n",
            "Epoch 34/100\n",
            "30/30 [==============================] - 1s 24ms/step - loss: 0.2916 - accuracy: 0.8941 - val_loss: 0.3353 - val_accuracy: 0.8770\n",
            "Epoch 35/100\n",
            "30/30 [==============================] - 1s 18ms/step - loss: 0.2890 - accuracy: 0.8945 - val_loss: 0.3306 - val_accuracy: 0.8800\n",
            "Epoch 36/100\n",
            "30/30 [==============================] - 1s 21ms/step - loss: 0.2861 - accuracy: 0.8959 - val_loss: 0.3334 - val_accuracy: 0.8790\n",
            "Epoch 37/100\n",
            "30/30 [==============================] - 1s 23ms/step - loss: 0.2848 - accuracy: 0.8959 - val_loss: 0.3299 - val_accuracy: 0.8810\n",
            "Epoch 38/100\n",
            "30/30 [==============================] - 1s 26ms/step - loss: 0.2841 - accuracy: 0.8955 - val_loss: 0.3282 - val_accuracy: 0.8802\n",
            "Epoch 39/100\n",
            "30/30 [==============================] - 1s 17ms/step - loss: 0.2779 - accuracy: 0.8989 - val_loss: 0.3253 - val_accuracy: 0.8811\n",
            "Epoch 40/100\n",
            "30/30 [==============================] - 0s 16ms/step - loss: 0.2768 - accuracy: 0.8988 - val_loss: 0.3355 - val_accuracy: 0.8790\n",
            "Epoch 41/100\n",
            "30/30 [==============================] - 0s 14ms/step - loss: 0.2769 - accuracy: 0.8984 - val_loss: 0.3207 - val_accuracy: 0.8863\n",
            "Epoch 42/100\n",
            "30/30 [==============================] - 0s 15ms/step - loss: 0.2723 - accuracy: 0.9003 - val_loss: 0.3304 - val_accuracy: 0.8808\n",
            "Epoch 43/100\n",
            "30/30 [==============================] - 0s 16ms/step - loss: 0.2728 - accuracy: 0.9006 - val_loss: 0.3210 - val_accuracy: 0.8833\n",
            "Epoch 44/100\n",
            "30/30 [==============================] - 0s 16ms/step - loss: 0.2694 - accuracy: 0.9013 - val_loss: 0.3357 - val_accuracy: 0.8772\n",
            "Epoch 45/100\n",
            "30/30 [==============================] - 1s 17ms/step - loss: 0.2687 - accuracy: 0.9015 - val_loss: 0.3190 - val_accuracy: 0.8839\n",
            "Epoch 46/100\n",
            "30/30 [==============================] - 0s 16ms/step - loss: 0.2660 - accuracy: 0.9020 - val_loss: 0.3162 - val_accuracy: 0.8861\n",
            "Epoch 47/100\n",
            "30/30 [==============================] - 0s 16ms/step - loss: 0.2650 - accuracy: 0.9036 - val_loss: 0.3169 - val_accuracy: 0.8848\n",
            "Epoch 48/100\n",
            "30/30 [==============================] - 0s 14ms/step - loss: 0.2648 - accuracy: 0.9032 - val_loss: 0.3155 - val_accuracy: 0.8879\n",
            "Epoch 49/100\n",
            "30/30 [==============================] - 0s 15ms/step - loss: 0.2585 - accuracy: 0.9058 - val_loss: 0.3168 - val_accuracy: 0.8865\n",
            "Epoch 50/100\n",
            "30/30 [==============================] - 1s 18ms/step - loss: 0.2575 - accuracy: 0.9060 - val_loss: 0.3179 - val_accuracy: 0.8843\n",
            "Epoch 51/100\n",
            "30/30 [==============================] - 1s 19ms/step - loss: 0.2573 - accuracy: 0.9057 - val_loss: 0.3149 - val_accuracy: 0.8838\n",
            "Epoch 52/100\n",
            "30/30 [==============================] - 0s 16ms/step - loss: 0.2560 - accuracy: 0.9056 - val_loss: 0.3091 - val_accuracy: 0.8869\n",
            "Epoch 53/100\n",
            "30/30 [==============================] - 0s 15ms/step - loss: 0.2532 - accuracy: 0.9067 - val_loss: 0.3224 - val_accuracy: 0.8834\n",
            "Epoch 54/100\n",
            "30/30 [==============================] - 0s 15ms/step - loss: 0.2547 - accuracy: 0.9068 - val_loss: 0.3139 - val_accuracy: 0.8841\n",
            "Epoch 55/100\n",
            "30/30 [==============================] - 1s 22ms/step - loss: 0.2495 - accuracy: 0.9087 - val_loss: 0.3100 - val_accuracy: 0.8887\n",
            "Epoch 56/100\n",
            "30/30 [==============================] - 1s 20ms/step - loss: 0.2477 - accuracy: 0.9094 - val_loss: 0.3098 - val_accuracy: 0.8878\n",
            "Epoch 57/100\n",
            "30/30 [==============================] - 1s 23ms/step - loss: 0.2473 - accuracy: 0.9086 - val_loss: 0.3093 - val_accuracy: 0.8858\n",
            "Epoch 58/100\n",
            "30/30 [==============================] - 1s 20ms/step - loss: 0.2440 - accuracy: 0.9102 - val_loss: 0.3117 - val_accuracy: 0.8886\n",
            "Epoch 59/100\n",
            "30/30 [==============================] - 1s 20ms/step - loss: 0.2428 - accuracy: 0.9109 - val_loss: 0.3142 - val_accuracy: 0.8873\n",
            "Epoch 60/100\n",
            "30/30 [==============================] - 1s 20ms/step - loss: 0.2435 - accuracy: 0.9099 - val_loss: 0.3027 - val_accuracy: 0.8931\n",
            "Epoch 61/100\n",
            "30/30 [==============================] - 0s 15ms/step - loss: 0.2417 - accuracy: 0.9111 - val_loss: 0.3149 - val_accuracy: 0.8856\n",
            "Epoch 62/100\n",
            "30/30 [==============================] - 0s 14ms/step - loss: 0.2399 - accuracy: 0.9121 - val_loss: 0.3060 - val_accuracy: 0.8903\n",
            "Epoch 63/100\n",
            "30/30 [==============================] - 0s 13ms/step - loss: 0.2349 - accuracy: 0.9139 - val_loss: 0.3042 - val_accuracy: 0.8906\n",
            "Epoch 64/100\n",
            "30/30 [==============================] - 0s 14ms/step - loss: 0.2341 - accuracy: 0.9146 - val_loss: 0.3056 - val_accuracy: 0.8910\n",
            "Epoch 65/100\n",
            "30/30 [==============================] - 0s 13ms/step - loss: 0.2384 - accuracy: 0.9121 - val_loss: 0.3107 - val_accuracy: 0.8908\n",
            "Epoch 66/100\n",
            "30/30 [==============================] - 0s 14ms/step - loss: 0.2361 - accuracy: 0.9125 - val_loss: 0.3006 - val_accuracy: 0.8922\n",
            "Epoch 67/100\n",
            "30/30 [==============================] - 0s 15ms/step - loss: 0.2317 - accuracy: 0.9151 - val_loss: 0.3061 - val_accuracy: 0.8920\n",
            "Epoch 68/100\n",
            "30/30 [==============================] - 1s 18ms/step - loss: 0.2334 - accuracy: 0.9141 - val_loss: 0.3010 - val_accuracy: 0.8901\n",
            "Epoch 69/100\n",
            "30/30 [==============================] - 0s 16ms/step - loss: 0.2302 - accuracy: 0.9159 - val_loss: 0.3027 - val_accuracy: 0.8926\n",
            "Epoch 70/100\n",
            "30/30 [==============================] - 0s 15ms/step - loss: 0.2286 - accuracy: 0.9149 - val_loss: 0.3016 - val_accuracy: 0.8929\n",
            "Epoch 71/100\n",
            "30/30 [==============================] - 0s 15ms/step - loss: 0.2254 - accuracy: 0.9175 - val_loss: 0.3083 - val_accuracy: 0.8884\n",
            "Epoch 72/100\n",
            "30/30 [==============================] - 0s 16ms/step - loss: 0.2260 - accuracy: 0.9161 - val_loss: 0.2997 - val_accuracy: 0.8967\n",
            "Epoch 73/100\n",
            "30/30 [==============================] - 0s 14ms/step - loss: 0.2229 - accuracy: 0.9185 - val_loss: 0.2990 - val_accuracy: 0.8934\n",
            "Epoch 74/100\n",
            "30/30 [==============================] - 0s 14ms/step - loss: 0.2214 - accuracy: 0.9184 - val_loss: 0.2970 - val_accuracy: 0.8954\n",
            "Epoch 75/100\n",
            "30/30 [==============================] - 0s 14ms/step - loss: 0.2206 - accuracy: 0.9182 - val_loss: 0.2982 - val_accuracy: 0.8937\n",
            "Epoch 76/100\n",
            "30/30 [==============================] - 0s 14ms/step - loss: 0.2217 - accuracy: 0.9188 - val_loss: 0.3086 - val_accuracy: 0.8904\n",
            "Epoch 77/100\n",
            "30/30 [==============================] - 0s 13ms/step - loss: 0.2231 - accuracy: 0.9173 - val_loss: 0.2958 - val_accuracy: 0.8951\n",
            "Epoch 78/100\n",
            "30/30 [==============================] - 0s 13ms/step - loss: 0.2175 - accuracy: 0.9196 - val_loss: 0.3027 - val_accuracy: 0.8937\n",
            "Epoch 79/100\n",
            "30/30 [==============================] - 0s 16ms/step - loss: 0.2162 - accuracy: 0.9207 - val_loss: 0.2964 - val_accuracy: 0.8946\n",
            "Epoch 80/100\n",
            "30/30 [==============================] - 1s 20ms/step - loss: 0.2162 - accuracy: 0.9201 - val_loss: 0.2975 - val_accuracy: 0.8960\n",
            "Epoch 81/100\n",
            "30/30 [==============================] - 1s 17ms/step - loss: 0.2194 - accuracy: 0.9183 - val_loss: 0.2996 - val_accuracy: 0.8942\n",
            "Epoch 82/100\n",
            "30/30 [==============================] - 1s 19ms/step - loss: 0.2120 - accuracy: 0.9218 - val_loss: 0.2961 - val_accuracy: 0.8946\n",
            "Epoch 83/100\n",
            "30/30 [==============================] - 1s 24ms/step - loss: 0.2135 - accuracy: 0.9204 - val_loss: 0.3114 - val_accuracy: 0.8901\n",
            "Epoch 84/100\n",
            "30/30 [==============================] - 1s 18ms/step - loss: 0.2109 - accuracy: 0.9214 - val_loss: 0.2935 - val_accuracy: 0.8967\n",
            "Epoch 85/100\n",
            "30/30 [==============================] - 1s 21ms/step - loss: 0.2077 - accuracy: 0.9225 - val_loss: 0.2930 - val_accuracy: 0.8954\n",
            "Epoch 86/100\n",
            "30/30 [==============================] - 1s 19ms/step - loss: 0.2073 - accuracy: 0.9238 - val_loss: 0.3002 - val_accuracy: 0.8922\n",
            "Epoch 87/100\n",
            "30/30 [==============================] - 1s 20ms/step - loss: 0.2078 - accuracy: 0.9233 - val_loss: 0.2974 - val_accuracy: 0.8953\n",
            "Epoch 88/100\n",
            "30/30 [==============================] - 1s 18ms/step - loss: 0.2075 - accuracy: 0.9224 - val_loss: 0.2993 - val_accuracy: 0.8943\n",
            "Epoch 89/100\n",
            "30/30 [==============================] - 0s 17ms/step - loss: 0.2061 - accuracy: 0.9238 - val_loss: 0.3004 - val_accuracy: 0.8952\n",
            "Epoch 90/100\n",
            "30/30 [==============================] - 1s 21ms/step - loss: 0.2051 - accuracy: 0.9247 - val_loss: 0.2946 - val_accuracy: 0.8943\n",
            "Epoch 91/100\n",
            "30/30 [==============================] - 1s 18ms/step - loss: 0.2050 - accuracy: 0.9236 - val_loss: 0.2953 - val_accuracy: 0.8972\n",
            "Epoch 92/100\n",
            "30/30 [==============================] - 1s 26ms/step - loss: 0.1991 - accuracy: 0.9258 - val_loss: 0.3019 - val_accuracy: 0.8957\n",
            "Epoch 93/100\n",
            "30/30 [==============================] - 1s 28ms/step - loss: 0.1997 - accuracy: 0.9262 - val_loss: 0.2980 - val_accuracy: 0.8954\n",
            "Epoch 94/100\n",
            "30/30 [==============================] - 1s 19ms/step - loss: 0.1995 - accuracy: 0.9263 - val_loss: 0.2954 - val_accuracy: 0.8972\n",
            "Epoch 95/100\n",
            "30/30 [==============================] - 1s 18ms/step - loss: 0.2012 - accuracy: 0.9251 - val_loss: 0.2967 - val_accuracy: 0.8961\n"
          ]
        },
        {
          "output_type": "execute_result",
          "data": {
            "text/plain": [
              "<keras.callbacks.History at 0x7ff64c3b6da0>"
            ]
          },
          "metadata": {},
          "execution_count": 5
        }
      ],
      "source": [
        "# TODO: Compile and fit your model\n",
        "import os\n",
        "\n",
        "# os.environ['KMP_DUPLICATE_LIB_OK']='True' #https://stackoverflow.com/questions/53014306/error-15-initializing-libiomp5-dylib-but-found-libiomp5-dylib-already-initial\n",
        "\n",
        "\n",
        "from tensorflow.keras.callbacks import EarlyStopping\n",
        "from tensorflow.keras.callbacks import TensorBoard\n",
        "\n",
        "model = lenet5()\n",
        "\n",
        "model.compile(optimizer='adam', loss='categorical_crossentropy', metrics=['accuracy'])\n",
        "\n",
        "# Define now our callbacks\n",
        "# callbacks = [EarlyStopping(monitor='val_loss', patience=10), TensorBoard(log_dir='./keras-logs', histogram_freq=0, write_graph=True, write_images=True)]\n",
        "callbacks = [EarlyStopping(monitor='val_loss', patience=10)]\n",
        "\n",
        "# Finally fit the model\n",
        "model.fit(x=X_train_norm, y=y_train_cat, validation_data=(X_test_norm, y_test_cat), epochs=100, batch_size=2048, callbacks=callbacks)"
      ]
    },
    {
      "cell_type": "markdown",
      "metadata": {
        "id": "Rf-SqjjOyO8q"
      },
      "source": [
        "Have a look at the tensorboard and see if it gives a deeper understanding of your model."
      ]
    },
    {
      "cell_type": "markdown",
      "metadata": {
        "id": "k2FTj7TSyO8q"
      },
      "source": [
        "Compute then the accuracy of your model. Is it better than a regular MLP used before?"
      ]
    },
    {
      "cell_type": "code",
      "execution_count": 6,
      "metadata": {
        "colab": {
          "base_uri": "https://localhost:8080/"
        },
        "id": "rPjJoMQZyO8q",
        "outputId": "b8970d3b-d73a-4618-a296-e574bf488190"
      },
      "outputs": [
        {
          "output_type": "stream",
          "name": "stdout",
          "text": [
            "59/59 [==============================] - 1s 4ms/step\n",
            "10/10 [==============================] - 0s 12ms/step\n",
            "accuracy on train with CNN: 0.9280333333333334\n",
            "accuracy on test with CNN: 0.8961\n"
          ]
        }
      ],
      "source": [
        "# TODO: Compute the accuracy of your model\n",
        "from sklearn.metrics import accuracy_score\n",
        "\n",
        "batch_size = 1024\n",
        "y_pred_train = to_categorical(model.predict(X_train_norm, batch_size = batch_size).argmax(axis=1), num_classes=10)\n",
        "y_pred_test = to_categorical(model.predict(X_test_norm, batch_size = batch_size).argmax(axis=1), num_classes=10)\n",
        "\n",
        "print('accuracy on train with CNN:', accuracy_score(y_pred_train, y_train_cat))\n",
        "print('accuracy on test with CNN:', accuracy_score(y_pred_test, y_test_cat))"
      ]
    },
    {
      "cell_type": "markdown",
      "metadata": {
        "id": "1vulsgHiyO8q"
      },
      "source": [
        "We will now add image augmentation to improve our results, especially we will try to reduce overfitting this way.\n",
        "\n",
        "To do so, you can use `ImageDataGenerator` from Keras that makes all the work for you (including rescaling), with the following parameter: \n",
        "* `horizontal_flip=True`\n",
        "\n",
        "For more info about how the `ImageDataGenerator` works, you can check out [this article](https://www.pyimagesearch.com/2019/07/08/keras-imagedatagenerator-and-data-augmentation/).\n",
        "\n",
        "Begin by creating an object `ImageDataGenerator` with this parameter."
      ]
    },
    {
      "cell_type": "code",
      "execution_count": 7,
      "metadata": {
        "ExecuteTime": {
          "end_time": "2020-08-19T11:58:37.442182Z",
          "start_time": "2020-08-19T11:58:37.438397Z"
        },
        "id": "pas-fMSIyO8q"
      },
      "outputs": [],
      "source": [
        "# TODO: Instantiate an ImageDataGenerator object\n",
        "from tensorflow.keras.preprocessing.image import ImageDataGenerator\n",
        "\n",
        "datagen = ImageDataGenerator(horizontal_flip=True)"
      ]
    },
    {
      "cell_type": "markdown",
      "metadata": {
        "id": "k7nCnu9syO8r"
      },
      "source": [
        "Finally, you can train your model using this generator, with the method `fit_generator` of your model and the method `flow` of your `ImageDataGenerator`."
      ]
    },
    {
      "cell_type": "code",
      "execution_count": 8,
      "metadata": {
        "colab": {
          "base_uri": "https://localhost:8080/"
        },
        "id": "Zt6wXa3IyO8r",
        "outputId": "0e3a9c97-cbbe-4e91-dce6-d35c79b8e587",
        "scrolled": true
      },
      "outputs": [
        {
          "output_type": "stream",
          "name": "stdout",
          "text": [
            "Epoch 1/100\n"
          ]
        },
        {
          "output_type": "stream",
          "name": "stderr",
          "text": [
            "<ipython-input-8-5da9cbf7d7d8>:3: UserWarning: `Model.fit_generator` is deprecated and will be removed in a future version. Please use `Model.fit`, which supports generators.\n",
            "  model.fit_generator(datagen.flow(X_train_norm, y_train_cat, batch_size=batch_size),\n"
          ]
        },
        {
          "output_type": "stream",
          "name": "stdout",
          "text": [
            "58/58 [==============================] - 4s 53ms/step - loss: 0.4124 - accuracy: 0.8667 - val_loss: 0.3275 - val_accuracy: 0.8794\n",
            "Epoch 2/100\n",
            "58/58 [==============================] - 3s 48ms/step - loss: 0.2782 - accuracy: 0.8984 - val_loss: 0.3028 - val_accuracy: 0.8908\n",
            "Epoch 3/100\n",
            "58/58 [==============================] - 3s 53ms/step - loss: 0.2647 - accuracy: 0.9032 - val_loss: 0.2968 - val_accuracy: 0.8927\n",
            "Epoch 4/100\n",
            "58/58 [==============================] - 3s 43ms/step - loss: 0.2592 - accuracy: 0.9046 - val_loss: 0.2958 - val_accuracy: 0.8952\n",
            "Epoch 5/100\n",
            "58/58 [==============================] - 3s 53ms/step - loss: 0.2537 - accuracy: 0.9062 - val_loss: 0.2918 - val_accuracy: 0.8957\n",
            "Epoch 6/100\n",
            "58/58 [==============================] - 3s 52ms/step - loss: 0.2478 - accuracy: 0.9092 - val_loss: 0.2962 - val_accuracy: 0.8958\n",
            "Epoch 7/100\n",
            "58/58 [==============================] - 3s 55ms/step - loss: 0.2431 - accuracy: 0.9099 - val_loss: 0.2985 - val_accuracy: 0.8974\n",
            "Epoch 8/100\n",
            "58/58 [==============================] - 4s 61ms/step - loss: 0.2421 - accuracy: 0.9104 - val_loss: 0.2986 - val_accuracy: 0.8941\n",
            "Epoch 9/100\n",
            "58/58 [==============================] - 3s 43ms/step - loss: 0.2371 - accuracy: 0.9131 - val_loss: 0.2935 - val_accuracy: 0.8962\n",
            "Epoch 10/100\n",
            "58/58 [==============================] - 3s 53ms/step - loss: 0.2339 - accuracy: 0.9139 - val_loss: 0.2983 - val_accuracy: 0.8936\n",
            "Epoch 11/100\n",
            "58/58 [==============================] - 3s 43ms/step - loss: 0.2360 - accuracy: 0.9117 - val_loss: 0.2911 - val_accuracy: 0.8954\n",
            "Epoch 12/100\n",
            "58/58 [==============================] - 3s 52ms/step - loss: 0.2316 - accuracy: 0.9136 - val_loss: 0.2962 - val_accuracy: 0.8957\n",
            "Epoch 13/100\n",
            "58/58 [==============================] - 3s 53ms/step - loss: 0.2337 - accuracy: 0.9138 - val_loss: 0.2933 - val_accuracy: 0.8952\n",
            "Epoch 14/100\n",
            "58/58 [==============================] - 3s 53ms/step - loss: 0.2266 - accuracy: 0.9170 - val_loss: 0.2902 - val_accuracy: 0.8967\n",
            "Epoch 15/100\n",
            "58/58 [==============================] - 3s 46ms/step - loss: 0.2243 - accuracy: 0.9175 - val_loss: 0.2905 - val_accuracy: 0.8983\n",
            "Epoch 16/100\n",
            "58/58 [==============================] - 4s 63ms/step - loss: 0.2209 - accuracy: 0.9180 - val_loss: 0.3083 - val_accuracy: 0.8924\n",
            "Epoch 17/100\n",
            "58/58 [==============================] - 3s 54ms/step - loss: 0.2228 - accuracy: 0.9172 - val_loss: 0.2881 - val_accuracy: 0.8973\n",
            "Epoch 18/100\n",
            "58/58 [==============================] - 3s 43ms/step - loss: 0.2166 - accuracy: 0.9194 - val_loss: 0.2899 - val_accuracy: 0.8966\n",
            "Epoch 19/100\n",
            "58/58 [==============================] - 3s 44ms/step - loss: 0.2190 - accuracy: 0.9182 - val_loss: 0.2905 - val_accuracy: 0.8987\n",
            "Epoch 20/100\n",
            "58/58 [==============================] - 4s 65ms/step - loss: 0.2174 - accuracy: 0.9194 - val_loss: 0.2830 - val_accuracy: 0.9016\n",
            "Epoch 21/100\n",
            "58/58 [==============================] - 3s 53ms/step - loss: 0.2124 - accuracy: 0.9215 - val_loss: 0.2926 - val_accuracy: 0.8986\n",
            "Epoch 22/100\n",
            "58/58 [==============================] - 3s 43ms/step - loss: 0.2132 - accuracy: 0.9195 - val_loss: 0.2975 - val_accuracy: 0.8987\n",
            "Epoch 23/100\n",
            "58/58 [==============================] - 3s 44ms/step - loss: 0.2153 - accuracy: 0.9197 - val_loss: 0.2927 - val_accuracy: 0.8982\n",
            "Epoch 24/100\n",
            "58/58 [==============================] - 6s 103ms/step - loss: 0.2091 - accuracy: 0.9219 - val_loss: 0.2907 - val_accuracy: 0.8977\n",
            "Epoch 25/100\n",
            "58/58 [==============================] - 3s 44ms/step - loss: 0.2121 - accuracy: 0.9211 - val_loss: 0.2858 - val_accuracy: 0.9027\n",
            "Epoch 26/100\n",
            "58/58 [==============================] - 3s 53ms/step - loss: 0.2083 - accuracy: 0.9225 - val_loss: 0.2874 - val_accuracy: 0.8999\n",
            "Epoch 27/100\n",
            "58/58 [==============================] - 7s 112ms/step - loss: 0.2115 - accuracy: 0.9209 - val_loss: 0.2862 - val_accuracy: 0.9026\n",
            "Epoch 28/100\n",
            "58/58 [==============================] - 3s 53ms/step - loss: 0.2049 - accuracy: 0.9245 - val_loss: 0.2913 - val_accuracy: 0.8991\n",
            "Epoch 29/100\n",
            "58/58 [==============================] - 3s 49ms/step - loss: 0.2053 - accuracy: 0.9236 - val_loss: 0.3015 - val_accuracy: 0.8967\n",
            "Epoch 30/100\n",
            "58/58 [==============================] - 2s 42ms/step - loss: 0.2019 - accuracy: 0.9248 - val_loss: 0.2890 - val_accuracy: 0.9001\n"
          ]
        },
        {
          "output_type": "execute_result",
          "data": {
            "text/plain": [
              "<keras.callbacks.History at 0x7ff5b7a6a980>"
            ]
          },
          "metadata": {},
          "execution_count": 8
        }
      ],
      "source": [
        "# TODO: train your model\n",
        "batch_size = 1024\n",
        "model.fit_generator(datagen.flow(X_train_norm, y_train_cat, batch_size=batch_size),\n",
        "                    validation_data=(X_test_norm, y_test_cat), callbacks=callbacks,\n",
        "                    steps_per_epoch=len(X_train_norm) / batch_size, epochs=100)"
      ]
    },
    {
      "cell_type": "markdown",
      "metadata": {
        "id": "NuzFke8pyO8r"
      },
      "source": [
        "Recompute the accuracy of your model, does it improve your performances with data augmentation?"
      ]
    },
    {
      "cell_type": "code",
      "execution_count": 9,
      "metadata": {
        "colab": {
          "base_uri": "https://localhost:8080/"
        },
        "id": "jsTm86tuyO8r",
        "outputId": "284b8925-89e6-4aed-c684-31b4c9de93e2"
      },
      "outputs": [
        {
          "output_type": "stream",
          "name": "stdout",
          "text": [
            "59/59 [==============================] - 0s 3ms/step\n",
            "10/10 [==============================] - 0s 3ms/step\n",
            "accuracy on train with NN: 0.9331166666666667\n",
            "accuracy on test with NN: 0.9001\n"
          ]
        }
      ],
      "source": [
        "# TODO: Compute the accuracy of your model\n",
        "from sklearn.metrics import accuracy_score\n",
        "\n",
        "batch_size=1024\n",
        "y_pred_train = to_categorical(model.predict(X_train_norm, batch_size = batch_size).argmax(axis=1), num_classes=10)\n",
        "y_pred_test = to_categorical(model.predict(X_test_norm, batch_size = batch_size).argmax(axis=1), num_classes=10)\n",
        "\n",
        "print('accuracy on train with NN:', accuracy_score(y_pred_train, y_train_cat))\n",
        "print('accuracy on test with NN:', accuracy_score(y_pred_test, y_test_cat))"
      ]
    },
    {
      "cell_type": "markdown",
      "metadata": {
        "id": "jOzkdGf7yO8s"
      },
      "source": [
        "You can now try to improve even more your results. For example, add more parameters to your `ImageDataGenerator`, play with some hyperparameters, and so on..."
      ]
    }
  ],
  "metadata": {
    "accelerator": "GPU",
    "colab": {
      "provenance": []
    },
    "kernelspec": {
      "display_name": "Python 3 (ipykernel)",
      "language": "python",
      "name": "python3"
    },
    "language_info": {
      "codemirror_mode": {
        "name": "ipython",
        "version": 3
      },
      "file_extension": ".py",
      "mimetype": "text/x-python",
      "name": "python",
      "nbconvert_exporter": "python",
      "pygments_lexer": "ipython3",
      "version": "3.10.9"
    },
    "toc": {
      "base_numbering": 1,
      "nav_menu": {},
      "number_sections": true,
      "sideBar": true,
      "skip_h1_title": false,
      "title_cell": "Table of Contents",
      "title_sidebar": "Contents",
      "toc_cell": false,
      "toc_position": {},
      "toc_section_display": true,
      "toc_window_display": false
    },
    "varInspector": {
      "cols": {
        "lenName": 16,
        "lenType": 16,
        "lenVar": 40
      },
      "kernels_config": {
        "python": {
          "delete_cmd_postfix": "",
          "delete_cmd_prefix": "del ",
          "library": "var_list.py",
          "varRefreshCmd": "print(var_dic_list())"
        },
        "r": {
          "delete_cmd_postfix": ") ",
          "delete_cmd_prefix": "rm(",
          "library": "var_list.r",
          "varRefreshCmd": "cat(var_dic_list()) "
        }
      },
      "types_to_exclude": [
        "module",
        "function",
        "builtin_function_or_method",
        "instance",
        "_Feature"
      ],
      "window_display": false
    }
  },
  "nbformat": 4,
  "nbformat_minor": 0
}