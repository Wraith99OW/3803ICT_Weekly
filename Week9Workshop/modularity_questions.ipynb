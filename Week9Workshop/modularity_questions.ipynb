{
 "cells": [
  {
   "cell_type": "markdown",
   "metadata": {},
   "source": [
    "# Lab 9 - Graph Data Analytics\n",
    "\n",
    "Complete the code with TODO tag.\n",
    "\n",
    "## 4. Graph Modularity and Louvain Algorithm (OPTIONAL)\n",
    "### 4.1. Compute Modularity\n",
    "\n",
    "In this exercise, we compute the modularity measure of a graph. First we create a small dataset and manually assign the community label to each node."
   ]
  },
  {
   "cell_type": "code",
   "execution_count": 1,
   "metadata": {},
   "outputs": [
    {
     "data": {
      "image/png": "[encoded data removed]",
      "text/plain": [
       "<Figure size 640x480 with 1 Axes>"
      ]
     },
     "metadata": {},
     "output_type": "display_data"
    }
   ],
   "source": [
    "from __future__ import print_function, division\n",
    "%matplotlib inline\n",
    "\n",
    "import networkx as nx\n",
    "import numpy as np\n",
    "\n",
    "M = [\"0,1,2\",\n",
    "\"1,0,2\",\n",
    "\"2,0,1,3\",\n",
    "\"3,2,4,5\",\n",
    "\"4,3,5\",\n",
    "\"5,3,4\"\n",
    "    ]\n",
    "G=nx.parse_adjlist(M, nodetype=int, delimiter=\",\")\n",
    "nx.draw_networkx(G, with_labels=True)"
   ]
  },
  {
   "cell_type": "code",
   "execution_count": 2,
   "metadata": {},
   "outputs": [
    {
     "data": {
      "text/plain": [
       "7"
      ]
     },
     "execution_count": 2,
     "metadata": {},
     "output_type": "execute_result"
    }
   ],
   "source": [
    "for node in [0,1,2]:\n",
    "    G.nodes[node]['community'] = 0\n",
    "for node in [3,4,5]:\n",
    "    G.nodes[node]['community'] = 1\n",
    "\n",
    "len(G.edges)"
   ]
  },
  {
   "cell_type": "markdown",
   "metadata": {},
   "source": [
    "Now we compute the modularity of the graph given the current community assignment"
   ]
  },
  {
   "cell_type": "code",
   "execution_count": 3,
   "metadata": {},
   "outputs": [
    {
     "data": {
      "text/plain": [
       "0.3571428571428571"
      ]
     },
     "execution_count": 3,
     "metadata": {},
     "output_type": "execute_result"
    }
   ],
   "source": [
    "def compute_modularity(G):\n",
    "    '''\n",
    "    TODO: compute the modularity of a networkx graph\n",
    "    HINTS:\n",
    "    + The community label of a node can be accessed by G[node_id]['community'] \n",
    "    + The degree of a node: G.degree[node_id]\n",
    "    + The neighbors of a node: G.neighbors(node_id)\n",
    "    + Number of edges between 2 nodes: G.number_of_edges(node_1, node_2)\n",
    "    '''\n",
    "    m = len(G.edges)\n",
    "    Q = 0\n",
    "    for node_i in G.nodes:\n",
    "        for node_j in G.nodes:\n",
    "            if G.nodes[node_i]['community'] == G.nodes[node_j]['community'] :\n",
    "                Q += G.number_of_edges(node_i, node_j) - (G.degree[node_i]*G.degree[node_j])/(2*m)\n",
    "    return Q/(2*m)\n",
    "\n",
    "compute_modularity(G)"
   ]
  },
  {
   "cell_type": "markdown",
   "metadata": {},
   "source": [
    "### 4.2. Naive Louvain algorithm\n",
    "\n",
    "It is convenient to use the adjacency matrix representation."
   ]
  },
  {
   "cell_type": "code",
   "execution_count": 4,
   "metadata": {},
   "outputs": [
    {
     "name": "stderr",
     "output_type": "stream",
     "text": [
      "C:\\Users\\educi\\AppData\\Local\\Temp\\ipykernel_18880\\1504667093.py:2: FutureWarning: adjacency_matrix will return a scipy.sparse array instead of a matrix in Networkx 3.0.\n",
      "  M = nx.adjacency_matrix(G)\n"
     ]
    },
    {
     "name": "stdout",
     "output_type": "stream",
     "text": [
      "[[0 1 1 0 0 0]\n",
      " [1 0 1 0 0 0]\n",
      " [1 1 0 1 0 0]\n",
      " [0 0 1 0 1 1]\n",
      " [0 0 0 1 0 1]\n",
      " [0 0 0 1 1 0]]\n",
      "[0 1 2 3 4 5]\n",
      "[2, 2, 3, 3, 2, 2]\n",
      "7.0\n"
     ]
    }
   ],
   "source": [
    "def adj_matrix(G):\n",
    "    M = nx.adjacency_matrix(G)\n",
    "    M = np.array(M.todense())\n",
    "    return M\n",
    "M = adj_matrix(G)\n",
    "p = np.array([i for i in range(len(M))])\n",
    "k = [sum(np.array(row).flatten()) for row in M]\n",
    "m = sum(k) / 2 #undirected graph\n",
    "print(M)\n",
    "print(p)\n",
    "print(k)\n",
    "print(m)"
   ]
  },
  {
   "cell_type": "markdown",
   "metadata": {},
   "source": [
    "Now we implement phase 1 of Louvain algorithm, in which we partition the nodes to maximize the modularity"
   ]
  },
  {
   "cell_type": "code",
   "execution_count": null,
   "metadata": {},
   "outputs": [],
   "source": [
    "def phase1(M, p=None, k=None):\n",
    "    N = len(M)\n",
    "    \n",
    "    # Community label\n",
    "    if p is None: p = np.array([i for i in range(N)])\n",
    "    \n",
    "    #Node degree\n",
    "    if k is None: k = np.array([sum(row) for row in M])\n",
    "    \n",
    "    m = sum(k) / 2\n",
    "\n",
    "    # Main algorihtm (phase 1)\n",
    "    improvement = True\n",
    "    while improvement:\n",
    "        improvement = False\n",
    "        for i in range(N):\n",
    "            p_max = p[i]\n",
    "            delta_Q_max = 0\n",
    "            for j in range(N):\n",
    "                if M[i][j] == 0: continue\n",
    "                Q_plus = 0 # compute Q_plus = join i to the community of j \n",
    "                Q_minus = 0 # compute Q_minus = remove i out of its current community\n",
    "                \n",
    "                # TODO: Compute the modularity gain via Q_plus and Q_minus\n",
    "                for x in range(N):\n",
    "                    if x != i and p[x] == p[j]:\n",
    "                        Q_plus += M[i][x] - k[i] * k[x] / (2*m)\n",
    "                    if x != i and p[x] == p[i]:\n",
    "                        Q_minus += M[i][x]\n",
    "                \n",
    "                if delta_Q_max < Q_plus - Q_minus:\n",
    "                    delta_Q_max = Q_plus - Q_minus\n",
    "                    p_max = p[j]\n",
    "            #Choose the best modularity gain\n",
    "            p[i] = p_max\n",
    "\n",
    "            # Track improvement\n",
    "            if not improvement and delta_Q_max > 0:\n",
    "                improvement = True\n",
    "    return(p)\n",
    "\n",
    "phase1(M)"
   ]
  },
  {
   "cell_type": "markdown",
   "metadata": {},
   "source": [
    "Now we implement the phase 2 of Louvain algorithm, in which we merge the nodes within the same community to a single node and create edges between communities."
   ]
  },
  {
   "cell_type": "code",
   "execution_count": null,
   "metadata": {},
   "outputs": [],
   "source": [
    "def phase2(M, p):\n",
    "    N = len(M)\n",
    "    communities = np.unique(p)\n",
    "    C = len(communities)\n",
    "    communities = dict(zip(communities, range(len(communities))))\n",
    "    \n",
    "    M_new = np.array([[0] * C for x in communities])\n",
    "    \n",
    "    # TODO: create an edge between two communities \n",
    "    # if there is an edge between one node of source community and one node of target community\n",
    "    for i in range(N):\n",
    "        for j in range(N):\n",
    "            if M[i][j] != 0 and p[i] != p[j]:\n",
    "                M_new[communities[p[i]]][communities[p[j]]] = 1\n",
    "    return M_new\n",
    "\n",
    "M_new = phase2(M, phase1(M))\n",
    "p_new = phase1(M_new)\n",
    "M_new, p_new"
   ]
  },
  {
   "cell_type": "markdown",
   "metadata": {},
   "source": [
    "Now we can implement the full Louvain algorithm"
   ]
  },
  {
   "cell_type": "code",
   "execution_count": null,
   "metadata": {},
   "outputs": [],
   "source": [
    "def louvain(M, verbose=True):\n",
    "    C = len(M)\n",
    "    iter = 0\n",
    "    M_new = M\n",
    "    print(\"Level 0 partition: {0}\".format(np.array([i for i in range(C)])))\n",
    "    while C > 1:\n",
    "        iter += 1\n",
    "        p = phase1(M_new)\n",
    "        M_new = phase2(M_new, p)\n",
    "        C = len(M_new)\n",
    "        print(\"Level {0} partition: {1}\".format(iter, p))\n",
    "        \n",
    "louvain(M)"
   ]
  },
  {
   "cell_type": "markdown",
   "metadata": {},
   "source": [
    "### 4.3. Efficient Louvain algorithm\n",
    "\n",
    "The naive Louvain algorithm is not efficient. It takes $O(n^3)$. There are some improvements in the literature\n",
    "\n",
    "+ http://www.ijcee.org/vol8/927-A023.pdf\n",
    "+ https://www.cs.upc.edu/~CSN/slides/07communities.pdf\n",
    "+ https://en.wikipedia.org/wiki/Louvain_Modularity\n",
    "+ https://www.quora.com/Is-there-a-simple-explanation-of-the-Louvain-Method-of-community-detection\n",
    "+ http://arxiv.org/abs/0803.0476\n",
    "+ https://stackoverflow.com/questions/22070196/community-detection-in-networkx\n",
    "\n",
    "For simplicity, we will demo one existing implementation. You can try to improve the final visualization further.\n",
    "\n",
    "```bash\n",
    "conda install python-louvain\n",
    "```"
   ]
  },
  {
   "cell_type": "code",
   "execution_count": null,
   "metadata": {},
   "outputs": [],
   "source": [
    "conda install python-louvain"
   ]
  },
  {
   "cell_type": "code",
   "execution_count": null,
   "metadata": {},
   "outputs": [],
   "source": [
    "import community\n",
    "\n",
    "# TODO: Compute the partition of current graph with maximal modularity using python-louvain library\n",
    "partition = community.best_partition(G)\n",
    "\n",
    "def visualize(G, partition):\n",
    "    import matplotlib.pyplot as plt\n",
    "    size = float(len(set(partition.values())))\n",
    "    pos = nx.spring_layout(G)\n",
    "    count = 0.\n",
    "    for com in set(partition.values()) :\n",
    "        count += 1.\n",
    "        list_nodes = [nodes for nodes in partition.keys() if partition[nodes] == com]\n",
    "        nx.draw_networkx_nodes(G, pos, list_nodes, node_size = 20,\n",
    "                                    node_color = str(count / size))\n",
    "    nx.draw_networkx_edges(G, pos, alpha=0.5)\n",
    "    plt.show()\n",
    "    return\n",
    "\n",
    "visualize(G, partition)"
   ]
  },
  {
   "cell_type": "markdown",
   "metadata": {},
   "source": [
    "### 4.4. Efficiency comparison\n",
    "\n",
    "We load a larger network and compare the running time of the two implementations."
   ]
  },
  {
   "cell_type": "code",
   "execution_count": null,
   "metadata": {},
   "outputs": [],
   "source": [
    "G = nx.karate_club_graph()\n",
    "nx.draw_networkx(G)"
   ]
  },
  {
   "cell_type": "code",
   "execution_count": null,
   "metadata": {},
   "outputs": [],
   "source": [
    "import time\n",
    "M = adj_matrix(G)\n",
    "p = np.array([i for i in range(len(M))])\n",
    "k = np.array([sum(row) for row in M])\n",
    "\n",
    "start_time = time.time()\n",
    "p = phase1(M, p, k)\n",
    "print(\"--- %s seconds ---\" % (time.time() - start_time))\n",
    "print(p)"
   ]
  },
  {
   "cell_type": "code",
   "execution_count": null,
   "metadata": {},
   "outputs": [],
   "source": [
    "start_time = time.time()\n",
    "p = community.best_partition(G)\n",
    "print(\"--- %s seconds ---\" % (time.time() - start_time))\n",
    "print(p)\n",
    "visualize(G, p)"
   ]
  },
  {
   "cell_type": "markdown",
   "metadata": {},
   "source": [
    "Now we load an even larger network: https://snap.stanford.edu/data/email-Eu-core.html"
   ]
  },
  {
   "cell_type": "code",
   "execution_count": 12,
   "metadata": {},
   "outputs": [
    {
     "name": "stdout",
     "output_type": "stream",
     "text": [
      "Name: \n",
      "Type: Graph\n",
      "Number of nodes: 1005\n",
      "Number of edges: 16706\n",
      "Average degree:  33.2458\n"
     ]
    },
    {
     "data": {
      "image/png": "[encoded data removed]",
      "text/plain": [
       "<matplotlib.figure.Figure at 0x11a866ed0>"
      ]
     },
     "metadata": {},
     "output_type": "display_data"
    }
   ],
   "source": [
    "G = nx.read_edgelist(\"email-Eu-core.txt\")\n",
    "nx.draw_networkx(G)\n",
    "print(nx.info(G))"
   ]
  },
  {
   "cell_type": "code",
   "execution_count": 15,
   "metadata": {},
   "outputs": [
    {
     "name": "stdout",
     "output_type": "stream",
     "text": [
      "--- 0.617053985596 seconds ---\n"
     ]
    },
    {
     "data": {
      "image/png": "[encoded data removed]",
      "text/plain": [
       "<matplotlib.figure.Figure at 0x10ee5e710>"
      ]
     },
     "metadata": {},
     "output_type": "display_data"
    }
   ],
   "source": [
    "start_time = time.time()\n",
    "p = community.best_partition(G)\n",
    "print(\"--- %s seconds ---\" % (time.time() - start_time))\n",
    "# print(p)\n",
    "visualize(G, p)"
   ]
  },
  {
   "cell_type": "code",
   "execution_count": 14,
   "metadata": {
    "collapsed": true
   },
   "outputs": [],
   "source": [
    "#Beware, this will take a long time\n",
    "M = adj_matrix(G)\n",
    "p = np.array([i for i in range(len(M))])\n",
    "k = np.array([sum(row) for row in M])\n",
    "\n",
    "start_time = time.time()\n",
    "p = phase1(M, p, k)\n",
    "print(\"--- %s seconds ---\" % (time.time() - start_time))\n",
    "print(p)"
   ]
  }
 ],
 "metadata": {
  "kernelspec": {
   "display_name": "Python 3 (ipykernel)",
   "language": "python",
   "name": "python3"
  },
  "language_info": {
   "codemirror_mode": {
    "name": "ipython",
    "version": 3
   },
   "file_extension": ".py",
   "mimetype": "text/x-python",
   "name": "python",
   "nbconvert_exporter": "python",
   "pygments_lexer": "ipython3",
   "version": "3.10.9"
  }
 },
 "nbformat": 4,
 "nbformat_minor": 2
}
